{
 "cells": [
  {
   "cell_type": "code",
   "execution_count": 39,
   "id": "4bd1ed0f",
   "metadata": {},
   "outputs": [
    {
     "name": "stdout",
     "output_type": "stream",
     "text": [
      "TensorFlow version: 2.13.0\n"
     ]
    }
   ],
   "source": [
    "import tensorflow as tf\n",
    "print(\"TensorFlow version:\", tf.__version__)\n"
   ]
  },
  {
   "cell_type": "code",
   "execution_count": 40,
   "id": "62759282",
   "metadata": {},
   "outputs": [],
   "source": [
    "import pandas as pd\n",
    "import numpy as np\n",
    "import matplotlib.pyplot as plt\n",
    "from sklearn.model_selection import train_test_split\n",
    "from sklearn.preprocessing import StandardScaler\n",
    "import tensorflow as tf\n",
    "from tensorflow.keras import layers, models\n"
   ]
  },
  {
   "cell_type": "code",
   "execution_count": 41,
   "id": "8217e453",
   "metadata": {},
   "outputs": [
    {
     "data": {
      "text/html": [
       "<div>\n",
       "<style scoped>\n",
       "    .dataframe tbody tr th:only-of-type {\n",
       "        vertical-align: middle;\n",
       "    }\n",
       "\n",
       "    .dataframe tbody tr th {\n",
       "        vertical-align: top;\n",
       "    }\n",
       "\n",
       "    .dataframe thead th {\n",
       "        text-align: right;\n",
       "    }\n",
       "</style>\n",
       "<table border=\"1\" class=\"dataframe\">\n",
       "  <thead>\n",
       "    <tr style=\"text-align: right;\">\n",
       "      <th></th>\n",
       "      <th>CRIM</th>\n",
       "      <th>ZN</th>\n",
       "      <th>INDUS</th>\n",
       "      <th>CHAS</th>\n",
       "      <th>NOX</th>\n",
       "      <th>RM</th>\n",
       "      <th>AGE</th>\n",
       "      <th>DIS</th>\n",
       "      <th>RAD</th>\n",
       "      <th>TAX</th>\n",
       "      <th>PTRATIO</th>\n",
       "      <th>B</th>\n",
       "      <th>LSTAT</th>\n",
       "      <th>MEDV</th>\n",
       "      <th>CAT. MEDV</th>\n",
       "      <th>Unnamed: 15</th>\n",
       "      <th>Unnamed: 16</th>\n",
       "    </tr>\n",
       "  </thead>\n",
       "  <tbody>\n",
       "    <tr>\n",
       "      <th>0</th>\n",
       "      <td>0.00632</td>\n",
       "      <td>18.0</td>\n",
       "      <td>2.31</td>\n",
       "      <td>0</td>\n",
       "      <td>0.538</td>\n",
       "      <td>6.575</td>\n",
       "      <td>65.2</td>\n",
       "      <td>4.0900</td>\n",
       "      <td>1</td>\n",
       "      <td>296</td>\n",
       "      <td>15.3</td>\n",
       "      <td>396.90</td>\n",
       "      <td>4.98</td>\n",
       "      <td>24.0</td>\n",
       "      <td>0</td>\n",
       "      <td>NaN</td>\n",
       "      <td>NaN</td>\n",
       "    </tr>\n",
       "    <tr>\n",
       "      <th>1</th>\n",
       "      <td>0.02731</td>\n",
       "      <td>0.0</td>\n",
       "      <td>7.07</td>\n",
       "      <td>0</td>\n",
       "      <td>0.469</td>\n",
       "      <td>6.421</td>\n",
       "      <td>78.9</td>\n",
       "      <td>4.9671</td>\n",
       "      <td>2</td>\n",
       "      <td>242</td>\n",
       "      <td>17.8</td>\n",
       "      <td>396.90</td>\n",
       "      <td>9.14</td>\n",
       "      <td>21.6</td>\n",
       "      <td>0</td>\n",
       "      <td>NaN</td>\n",
       "      <td>NaN</td>\n",
       "    </tr>\n",
       "    <tr>\n",
       "      <th>2</th>\n",
       "      <td>0.02729</td>\n",
       "      <td>0.0</td>\n",
       "      <td>7.07</td>\n",
       "      <td>0</td>\n",
       "      <td>0.469</td>\n",
       "      <td>7.185</td>\n",
       "      <td>61.1</td>\n",
       "      <td>4.9671</td>\n",
       "      <td>2</td>\n",
       "      <td>242</td>\n",
       "      <td>17.8</td>\n",
       "      <td>392.83</td>\n",
       "      <td>4.03</td>\n",
       "      <td>34.7</td>\n",
       "      <td>1</td>\n",
       "      <td>NaN</td>\n",
       "      <td>NaN</td>\n",
       "    </tr>\n",
       "    <tr>\n",
       "      <th>3</th>\n",
       "      <td>0.03237</td>\n",
       "      <td>0.0</td>\n",
       "      <td>2.18</td>\n",
       "      <td>0</td>\n",
       "      <td>0.458</td>\n",
       "      <td>6.998</td>\n",
       "      <td>45.8</td>\n",
       "      <td>6.0622</td>\n",
       "      <td>3</td>\n",
       "      <td>222</td>\n",
       "      <td>18.7</td>\n",
       "      <td>394.63</td>\n",
       "      <td>2.94</td>\n",
       "      <td>33.4</td>\n",
       "      <td>1</td>\n",
       "      <td>NaN</td>\n",
       "      <td>NaN</td>\n",
       "    </tr>\n",
       "    <tr>\n",
       "      <th>4</th>\n",
       "      <td>0.06905</td>\n",
       "      <td>0.0</td>\n",
       "      <td>2.18</td>\n",
       "      <td>0</td>\n",
       "      <td>0.458</td>\n",
       "      <td>7.147</td>\n",
       "      <td>54.2</td>\n",
       "      <td>6.0622</td>\n",
       "      <td>3</td>\n",
       "      <td>222</td>\n",
       "      <td>18.7</td>\n",
       "      <td>396.90</td>\n",
       "      <td>5.33</td>\n",
       "      <td>36.2</td>\n",
       "      <td>1</td>\n",
       "      <td>NaN</td>\n",
       "      <td>NaN</td>\n",
       "    </tr>\n",
       "    <tr>\n",
       "      <th>5</th>\n",
       "      <td>0.02985</td>\n",
       "      <td>0.0</td>\n",
       "      <td>2.18</td>\n",
       "      <td>0</td>\n",
       "      <td>0.458</td>\n",
       "      <td>6.430</td>\n",
       "      <td>58.7</td>\n",
       "      <td>6.0622</td>\n",
       "      <td>3</td>\n",
       "      <td>222</td>\n",
       "      <td>18.7</td>\n",
       "      <td>394.12</td>\n",
       "      <td>5.21</td>\n",
       "      <td>28.7</td>\n",
       "      <td>0</td>\n",
       "      <td>NaN</td>\n",
       "      <td>NaN</td>\n",
       "    </tr>\n",
       "    <tr>\n",
       "      <th>6</th>\n",
       "      <td>0.08829</td>\n",
       "      <td>12.5</td>\n",
       "      <td>7.87</td>\n",
       "      <td>0</td>\n",
       "      <td>0.524</td>\n",
       "      <td>6.012</td>\n",
       "      <td>66.6</td>\n",
       "      <td>5.5605</td>\n",
       "      <td>5</td>\n",
       "      <td>311</td>\n",
       "      <td>15.2</td>\n",
       "      <td>395.60</td>\n",
       "      <td>12.43</td>\n",
       "      <td>22.9</td>\n",
       "      <td>0</td>\n",
       "      <td>NaN</td>\n",
       "      <td>NaN</td>\n",
       "    </tr>\n",
       "    <tr>\n",
       "      <th>7</th>\n",
       "      <td>0.14455</td>\n",
       "      <td>12.5</td>\n",
       "      <td>7.87</td>\n",
       "      <td>0</td>\n",
       "      <td>0.524</td>\n",
       "      <td>6.172</td>\n",
       "      <td>96.1</td>\n",
       "      <td>5.9505</td>\n",
       "      <td>5</td>\n",
       "      <td>311</td>\n",
       "      <td>15.2</td>\n",
       "      <td>396.90</td>\n",
       "      <td>19.15</td>\n",
       "      <td>27.1</td>\n",
       "      <td>0</td>\n",
       "      <td>NaN</td>\n",
       "      <td>NaN</td>\n",
       "    </tr>\n",
       "    <tr>\n",
       "      <th>8</th>\n",
       "      <td>0.21124</td>\n",
       "      <td>12.5</td>\n",
       "      <td>7.87</td>\n",
       "      <td>0</td>\n",
       "      <td>0.524</td>\n",
       "      <td>5.631</td>\n",
       "      <td>100.0</td>\n",
       "      <td>6.0821</td>\n",
       "      <td>5</td>\n",
       "      <td>311</td>\n",
       "      <td>15.2</td>\n",
       "      <td>386.63</td>\n",
       "      <td>29.93</td>\n",
       "      <td>16.5</td>\n",
       "      <td>0</td>\n",
       "      <td>NaN</td>\n",
       "      <td>NaN</td>\n",
       "    </tr>\n",
       "    <tr>\n",
       "      <th>9</th>\n",
       "      <td>0.17004</td>\n",
       "      <td>12.5</td>\n",
       "      <td>7.87</td>\n",
       "      <td>0</td>\n",
       "      <td>0.524</td>\n",
       "      <td>6.004</td>\n",
       "      <td>85.9</td>\n",
       "      <td>6.5921</td>\n",
       "      <td>5</td>\n",
       "      <td>311</td>\n",
       "      <td>15.2</td>\n",
       "      <td>386.71</td>\n",
       "      <td>17.10</td>\n",
       "      <td>18.9</td>\n",
       "      <td>0</td>\n",
       "      <td>NaN</td>\n",
       "      <td>NaN</td>\n",
       "    </tr>\n",
       "  </tbody>\n",
       "</table>\n",
       "</div>"
      ],
      "text/plain": [
       "      CRIM    ZN  INDUS  CHAS    NOX     RM    AGE     DIS  RAD  TAX  PTRATIO  \\\n",
       "0  0.00632  18.0   2.31     0  0.538  6.575   65.2  4.0900    1  296     15.3   \n",
       "1  0.02731   0.0   7.07     0  0.469  6.421   78.9  4.9671    2  242     17.8   \n",
       "2  0.02729   0.0   7.07     0  0.469  7.185   61.1  4.9671    2  242     17.8   \n",
       "3  0.03237   0.0   2.18     0  0.458  6.998   45.8  6.0622    3  222     18.7   \n",
       "4  0.06905   0.0   2.18     0  0.458  7.147   54.2  6.0622    3  222     18.7   \n",
       "5  0.02985   0.0   2.18     0  0.458  6.430   58.7  6.0622    3  222     18.7   \n",
       "6  0.08829  12.5   7.87     0  0.524  6.012   66.6  5.5605    5  311     15.2   \n",
       "7  0.14455  12.5   7.87     0  0.524  6.172   96.1  5.9505    5  311     15.2   \n",
       "8  0.21124  12.5   7.87     0  0.524  5.631  100.0  6.0821    5  311     15.2   \n",
       "9  0.17004  12.5   7.87     0  0.524  6.004   85.9  6.5921    5  311     15.2   \n",
       "\n",
       "        B  LSTAT  MEDV  CAT. MEDV  Unnamed: 15  Unnamed: 16  \n",
       "0  396.90   4.98  24.0          0          NaN          NaN  \n",
       "1  396.90   9.14  21.6          0          NaN          NaN  \n",
       "2  392.83   4.03  34.7          1          NaN          NaN  \n",
       "3  394.63   2.94  33.4          1          NaN          NaN  \n",
       "4  396.90   5.33  36.2          1          NaN          NaN  \n",
       "5  394.12   5.21  28.7          0          NaN          NaN  \n",
       "6  395.60  12.43  22.9          0          NaN          NaN  \n",
       "7  396.90  19.15  27.1          0          NaN          NaN  \n",
       "8  386.63  29.93  16.5          0          NaN          NaN  \n",
       "9  386.71  17.10  18.9          0          NaN          NaN  "
      ]
     },
     "execution_count": 41,
     "metadata": {},
     "output_type": "execute_result"
    }
   ],
   "source": [
    "df = pd.read_csv('Boston.csv')\n",
    "df.head(10)"
   ]
  },
  {
   "cell_type": "code",
   "execution_count": 42,
   "id": "dfb22506",
   "metadata": {},
   "outputs": [],
   "source": [
    "df.drop(columns=['Unnamed: 15','Unnamed: 16'],inplace=True)"
   ]
  },
  {
   "cell_type": "code",
   "execution_count": 43,
   "id": "73289db9",
   "metadata": {},
   "outputs": [],
   "source": [
    "df.drop(columns=['CAT. MEDV'],inplace=True)"
   ]
  },
  {
   "cell_type": "code",
   "execution_count": 44,
   "id": "f66d1c8f",
   "metadata": {},
   "outputs": [
    {
     "data": {
      "text/plain": [
       "CRIM       0\n",
       "ZN         0\n",
       "INDUS      0\n",
       "CHAS       0\n",
       "NOX        0\n",
       "RM         0\n",
       "AGE        0\n",
       "DIS        0\n",
       "RAD        0\n",
       "TAX        0\n",
       "PTRATIO    0\n",
       "B          0\n",
       "LSTAT      0\n",
       "MEDV       0\n",
       "dtype: int64"
      ]
     },
     "execution_count": 44,
     "metadata": {},
     "output_type": "execute_result"
    }
   ],
   "source": [
    "df.isnull().sum()"
   ]
  },
  {
   "cell_type": "code",
   "execution_count": 45,
   "id": "4f2417e0",
   "metadata": {},
   "outputs": [
    {
     "name": "stdout",
     "output_type": "stream",
     "text": [
      "<class 'pandas.core.frame.DataFrame'>\n",
      "RangeIndex: 506 entries, 0 to 505\n",
      "Data columns (total 14 columns):\n",
      " #   Column   Non-Null Count  Dtype  \n",
      "---  ------   --------------  -----  \n",
      " 0   CRIM     506 non-null    float64\n",
      " 1   ZN       506 non-null    float64\n",
      " 2   INDUS    506 non-null    float64\n",
      " 3   CHAS     506 non-null    int64  \n",
      " 4   NOX      506 non-null    float64\n",
      " 5   RM       506 non-null    float64\n",
      " 6   AGE      506 non-null    float64\n",
      " 7   DIS      506 non-null    float64\n",
      " 8   RAD      506 non-null    int64  \n",
      " 9   TAX      506 non-null    int64  \n",
      " 10  PTRATIO  506 non-null    float64\n",
      " 11  B        506 non-null    float64\n",
      " 12  LSTAT    506 non-null    float64\n",
      " 13  MEDV     506 non-null    float64\n",
      "dtypes: float64(11), int64(3)\n",
      "memory usage: 55.5 KB\n"
     ]
    }
   ],
   "source": [
    "df.info()"
   ]
  },
  {
   "cell_type": "code",
   "execution_count": 46,
   "id": "0f7adc2b",
   "metadata": {},
   "outputs": [
    {
     "data": {
      "text/html": [
       "<div>\n",
       "<style scoped>\n",
       "    .dataframe tbody tr th:only-of-type {\n",
       "        vertical-align: middle;\n",
       "    }\n",
       "\n",
       "    .dataframe tbody tr th {\n",
       "        vertical-align: top;\n",
       "    }\n",
       "\n",
       "    .dataframe thead th {\n",
       "        text-align: right;\n",
       "    }\n",
       "</style>\n",
       "<table border=\"1\" class=\"dataframe\">\n",
       "  <thead>\n",
       "    <tr style=\"text-align: right;\">\n",
       "      <th></th>\n",
       "      <th>CRIM</th>\n",
       "      <th>ZN</th>\n",
       "      <th>INDUS</th>\n",
       "      <th>CHAS</th>\n",
       "      <th>NOX</th>\n",
       "      <th>RM</th>\n",
       "      <th>AGE</th>\n",
       "      <th>DIS</th>\n",
       "      <th>RAD</th>\n",
       "      <th>TAX</th>\n",
       "      <th>PTRATIO</th>\n",
       "      <th>B</th>\n",
       "      <th>LSTAT</th>\n",
       "      <th>MEDV</th>\n",
       "    </tr>\n",
       "  </thead>\n",
       "  <tbody>\n",
       "    <tr>\n",
       "      <th>count</th>\n",
       "      <td>506.000000</td>\n",
       "      <td>506.000000</td>\n",
       "      <td>506.000000</td>\n",
       "      <td>506.000000</td>\n",
       "      <td>506.000000</td>\n",
       "      <td>506.000000</td>\n",
       "      <td>506.000000</td>\n",
       "      <td>506.000000</td>\n",
       "      <td>506.000000</td>\n",
       "      <td>506.000000</td>\n",
       "      <td>506.000000</td>\n",
       "      <td>506.000000</td>\n",
       "      <td>506.000000</td>\n",
       "      <td>506.000000</td>\n",
       "    </tr>\n",
       "    <tr>\n",
       "      <th>mean</th>\n",
       "      <td>3.613524</td>\n",
       "      <td>11.363636</td>\n",
       "      <td>11.136779</td>\n",
       "      <td>0.069170</td>\n",
       "      <td>0.554695</td>\n",
       "      <td>6.284634</td>\n",
       "      <td>68.574901</td>\n",
       "      <td>3.795043</td>\n",
       "      <td>9.549407</td>\n",
       "      <td>408.237154</td>\n",
       "      <td>18.455534</td>\n",
       "      <td>356.674032</td>\n",
       "      <td>12.653063</td>\n",
       "      <td>22.532806</td>\n",
       "    </tr>\n",
       "    <tr>\n",
       "      <th>std</th>\n",
       "      <td>8.601545</td>\n",
       "      <td>23.322453</td>\n",
       "      <td>6.860353</td>\n",
       "      <td>0.253994</td>\n",
       "      <td>0.115878</td>\n",
       "      <td>0.702617</td>\n",
       "      <td>28.148861</td>\n",
       "      <td>2.105710</td>\n",
       "      <td>8.707259</td>\n",
       "      <td>168.537116</td>\n",
       "      <td>2.164946</td>\n",
       "      <td>91.294864</td>\n",
       "      <td>7.141062</td>\n",
       "      <td>9.197104</td>\n",
       "    </tr>\n",
       "    <tr>\n",
       "      <th>min</th>\n",
       "      <td>0.006320</td>\n",
       "      <td>0.000000</td>\n",
       "      <td>0.460000</td>\n",
       "      <td>0.000000</td>\n",
       "      <td>0.385000</td>\n",
       "      <td>3.561000</td>\n",
       "      <td>2.900000</td>\n",
       "      <td>1.129600</td>\n",
       "      <td>1.000000</td>\n",
       "      <td>187.000000</td>\n",
       "      <td>12.600000</td>\n",
       "      <td>0.320000</td>\n",
       "      <td>1.730000</td>\n",
       "      <td>5.000000</td>\n",
       "    </tr>\n",
       "    <tr>\n",
       "      <th>25%</th>\n",
       "      <td>0.082045</td>\n",
       "      <td>0.000000</td>\n",
       "      <td>5.190000</td>\n",
       "      <td>0.000000</td>\n",
       "      <td>0.449000</td>\n",
       "      <td>5.885500</td>\n",
       "      <td>45.025000</td>\n",
       "      <td>2.100175</td>\n",
       "      <td>4.000000</td>\n",
       "      <td>279.000000</td>\n",
       "      <td>17.400000</td>\n",
       "      <td>375.377500</td>\n",
       "      <td>6.950000</td>\n",
       "      <td>17.025000</td>\n",
       "    </tr>\n",
       "    <tr>\n",
       "      <th>50%</th>\n",
       "      <td>0.256510</td>\n",
       "      <td>0.000000</td>\n",
       "      <td>9.690000</td>\n",
       "      <td>0.000000</td>\n",
       "      <td>0.538000</td>\n",
       "      <td>6.208500</td>\n",
       "      <td>77.500000</td>\n",
       "      <td>3.207450</td>\n",
       "      <td>5.000000</td>\n",
       "      <td>330.000000</td>\n",
       "      <td>19.050000</td>\n",
       "      <td>391.440000</td>\n",
       "      <td>11.360000</td>\n",
       "      <td>21.200000</td>\n",
       "    </tr>\n",
       "    <tr>\n",
       "      <th>75%</th>\n",
       "      <td>3.677083</td>\n",
       "      <td>12.500000</td>\n",
       "      <td>18.100000</td>\n",
       "      <td>0.000000</td>\n",
       "      <td>0.624000</td>\n",
       "      <td>6.623500</td>\n",
       "      <td>94.075000</td>\n",
       "      <td>5.188425</td>\n",
       "      <td>24.000000</td>\n",
       "      <td>666.000000</td>\n",
       "      <td>20.200000</td>\n",
       "      <td>396.225000</td>\n",
       "      <td>16.955000</td>\n",
       "      <td>25.000000</td>\n",
       "    </tr>\n",
       "    <tr>\n",
       "      <th>max</th>\n",
       "      <td>88.976200</td>\n",
       "      <td>100.000000</td>\n",
       "      <td>27.740000</td>\n",
       "      <td>1.000000</td>\n",
       "      <td>0.871000</td>\n",
       "      <td>8.780000</td>\n",
       "      <td>100.000000</td>\n",
       "      <td>12.126500</td>\n",
       "      <td>24.000000</td>\n",
       "      <td>711.000000</td>\n",
       "      <td>22.000000</td>\n",
       "      <td>396.900000</td>\n",
       "      <td>37.970000</td>\n",
       "      <td>50.000000</td>\n",
       "    </tr>\n",
       "  </tbody>\n",
       "</table>\n",
       "</div>"
      ],
      "text/plain": [
       "             CRIM          ZN       INDUS        CHAS         NOX          RM  \\\n",
       "count  506.000000  506.000000  506.000000  506.000000  506.000000  506.000000   \n",
       "mean     3.613524   11.363636   11.136779    0.069170    0.554695    6.284634   \n",
       "std      8.601545   23.322453    6.860353    0.253994    0.115878    0.702617   \n",
       "min      0.006320    0.000000    0.460000    0.000000    0.385000    3.561000   \n",
       "25%      0.082045    0.000000    5.190000    0.000000    0.449000    5.885500   \n",
       "50%      0.256510    0.000000    9.690000    0.000000    0.538000    6.208500   \n",
       "75%      3.677083   12.500000   18.100000    0.000000    0.624000    6.623500   \n",
       "max     88.976200  100.000000   27.740000    1.000000    0.871000    8.780000   \n",
       "\n",
       "              AGE         DIS         RAD         TAX     PTRATIO           B  \\\n",
       "count  506.000000  506.000000  506.000000  506.000000  506.000000  506.000000   \n",
       "mean    68.574901    3.795043    9.549407  408.237154   18.455534  356.674032   \n",
       "std     28.148861    2.105710    8.707259  168.537116    2.164946   91.294864   \n",
       "min      2.900000    1.129600    1.000000  187.000000   12.600000    0.320000   \n",
       "25%     45.025000    2.100175    4.000000  279.000000   17.400000  375.377500   \n",
       "50%     77.500000    3.207450    5.000000  330.000000   19.050000  391.440000   \n",
       "75%     94.075000    5.188425   24.000000  666.000000   20.200000  396.225000   \n",
       "max    100.000000   12.126500   24.000000  711.000000   22.000000  396.900000   \n",
       "\n",
       "            LSTAT        MEDV  \n",
       "count  506.000000  506.000000  \n",
       "mean    12.653063   22.532806  \n",
       "std      7.141062    9.197104  \n",
       "min      1.730000    5.000000  \n",
       "25%      6.950000   17.025000  \n",
       "50%     11.360000   21.200000  \n",
       "75%     16.955000   25.000000  \n",
       "max     37.970000   50.000000  "
      ]
     },
     "execution_count": 46,
     "metadata": {},
     "output_type": "execute_result"
    }
   ],
   "source": [
    "df.describe()\n"
   ]
  },
  {
   "cell_type": "code",
   "execution_count": 47,
   "id": "6b826b01",
   "metadata": {},
   "outputs": [
    {
     "data": {
      "text/plain": [
       "LSTAT     -0.737663\n",
       "PTRATIO   -0.507787\n",
       "INDUS     -0.483725\n",
       "TAX       -0.468536\n",
       "NOX       -0.427321\n",
       "CRIM      -0.388305\n",
       "RAD       -0.381626\n",
       "AGE       -0.376955\n",
       "CHAS       0.175260\n",
       "DIS        0.249929\n",
       "B          0.333461\n",
       "ZN         0.360445\n",
       "RM         0.695360\n",
       "MEDV       1.000000\n",
       "Name: MEDV, dtype: float64"
      ]
     },
     "execution_count": 47,
     "metadata": {},
     "output_type": "execute_result"
    }
   ],
   "source": [
    "df.corr()['MEDV'].sort_values()"
   ]
  },
  {
   "cell_type": "code",
   "execution_count": 14,
   "id": "866c3b14",
   "metadata": {},
   "outputs": [
    {
     "data": {
      "text/plain": [
       "((506, 3), (506,))"
      ]
     },
     "execution_count": 14,
     "metadata": {},
     "output_type": "execute_result"
    }
   ],
   "source": [
    "X = df.loc[:,['LSTAT','PTRATIO','RM']]\n",
    "Y = df.loc[:,\"MEDV\"]\n",
    "X.shape,Y.shape\n"
   ]
  },
  {
   "cell_type": "code",
   "execution_count": 15,
   "id": "4f4f2a8a",
   "metadata": {},
   "outputs": [],
   "source": [
    "from sklearn.model_selection import train_test_split\n",
    "from sklearn.preprocessing import StandardScaler"
   ]
  },
  {
   "cell_type": "code",
   "execution_count": 16,
   "id": "9b662586",
   "metadata": {},
   "outputs": [],
   "source": [
    "x_train, x_test, y_train, y_test = train_test_split(X, Y, test_size=0.2, random_state=42)\n"
   ]
  },
  {
   "cell_type": "code",
   "execution_count": 17,
   "id": "8880d55d",
   "metadata": {},
   "outputs": [],
   "source": [
    "scaler = StandardScaler()"
   ]
  },
  {
   "cell_type": "code",
   "execution_count": 18,
   "id": "22a94328",
   "metadata": {},
   "outputs": [
    {
     "data": {
      "text/plain": [
       "StandardScaler()"
      ]
     },
     "execution_count": 18,
     "metadata": {},
     "output_type": "execute_result"
    }
   ],
   "source": [
    "scaler.fit(x_train)"
   ]
  },
  {
   "cell_type": "code",
   "execution_count": 19,
   "id": "a38f5489",
   "metadata": {},
   "outputs": [],
   "source": [
    "x_train = scaler.fit_transform(x_train)\n",
    "x_test = scaler.transform(x_test)\n"
   ]
  },
  {
   "cell_type": "code",
   "execution_count": 20,
   "id": "c11e2fe9",
   "metadata": {},
   "outputs": [
    {
     "data": {
      "text/plain": [
       "((404, 3), (102, 3), (404,), (102,))"
      ]
     },
     "execution_count": 20,
     "metadata": {},
     "output_type": "execute_result"
    }
   ],
   "source": [
    "x_train.shape, x_test.shape, y_train.shape, y_test.shape"
   ]
  },
  {
   "cell_type": "markdown",
   "id": "4c02f0e6",
   "metadata": {},
   "source": [
    "# Build the Deep Neural Network Model"
   ]
  },
  {
   "cell_type": "code",
   "execution_count": 21,
   "id": "383325c1",
   "metadata": {},
   "outputs": [],
   "source": [
    "from tensorflow.keras import models, layers"
   ]
  },
  {
   "cell_type": "code",
   "execution_count": 22,
   "id": "fc4f6a3a",
   "metadata": {},
   "outputs": [],
   "source": [
    "model = models.Sequential([\n",
    "    layers.Dense(64, activation='relu', input_shape=(x_train.shape[1],)),  # First hidden layer\n",
    "    layers.Dense(64, activation='relu'),  # Second hidden layer\n",
    "    layers.Dense(1)  # Output layer for regression (single neuron)\n",
    "])"
   ]
  },
  {
   "cell_type": "code",
   "execution_count": 23,
   "id": "f371b3e0",
   "metadata": {},
   "outputs": [],
   "source": [
    "model.compile(optimizer='adam', loss='mse', metrics=['mae'])"
   ]
  },
  {
   "cell_type": "markdown",
   "id": "a8f60794",
   "metadata": {},
   "source": [
    "Train Model"
   ]
  },
  {
   "cell_type": "code",
   "execution_count": 24,
   "id": "2510558c",
   "metadata": {},
   "outputs": [
    {
     "name": "stdout",
     "output_type": "stream",
     "text": [
      "Epoch 1/100\n",
      "11/11 [==============================] - 1s 24ms/step - loss: 623.1335 - mae: 23.0526 - val_loss: 547.9240 - val_mae: 21.8596\n",
      "Epoch 2/100\n",
      "11/11 [==============================] - 0s 8ms/step - loss: 595.8430 - mae: 22.4563 - val_loss: 523.0518 - val_mae: 21.3008\n",
      "Epoch 3/100\n",
      "11/11 [==============================] - 0s 10ms/step - loss: 567.8542 - mae: 21.8523 - val_loss: 496.5082 - val_mae: 20.6759\n",
      "Epoch 4/100\n",
      "11/11 [==============================] - 0s 9ms/step - loss: 537.1454 - mae: 21.1224 - val_loss: 463.3593 - val_mae: 19.8783\n",
      "Epoch 5/100\n",
      "11/11 [==============================] - 0s 7ms/step - loss: 496.9270 - mae: 20.1808 - val_loss: 420.0800 - val_mae: 18.7936\n",
      "Epoch 6/100\n",
      "11/11 [==============================] - 0s 9ms/step - loss: 444.7879 - mae: 18.8904 - val_loss: 363.8771 - val_mae: 17.3706\n",
      "Epoch 7/100\n",
      "11/11 [==============================] - 0s 7ms/step - loss: 378.9465 - mae: 17.2257 - val_loss: 297.8656 - val_mae: 15.6188\n",
      "Epoch 8/100\n",
      "11/11 [==============================] - 0s 8ms/step - loss: 304.7967 - mae: 15.2587 - val_loss: 226.6743 - val_mae: 13.4467\n",
      "Epoch 9/100\n",
      "11/11 [==============================] - 0s 7ms/step - loss: 224.1126 - mae: 12.9776 - val_loss: 157.0585 - val_mae: 10.9581\n",
      "Epoch 10/100\n",
      "11/11 [==============================] - 0s 7ms/step - loss: 150.8311 - mae: 10.5926 - val_loss: 97.3440 - val_mae: 8.3847\n",
      "Epoch 11/100\n",
      "11/11 [==============================] - 0s 9ms/step - loss: 93.9301 - mae: 8.2218 - val_loss: 58.3099 - val_mae: 6.0604\n",
      "Epoch 12/100\n",
      "11/11 [==============================] - 0s 8ms/step - loss: 59.1516 - mae: 6.3431 - val_loss: 41.8810 - val_mae: 4.7787\n",
      "Epoch 13/100\n",
      "11/11 [==============================] - 0s 8ms/step - loss: 45.6039 - mae: 5.2922 - val_loss: 36.7046 - val_mae: 4.3156\n",
      "Epoch 14/100\n",
      "11/11 [==============================] - 0s 10ms/step - loss: 39.7869 - mae: 4.8125 - val_loss: 33.9664 - val_mae: 4.0363\n",
      "Epoch 15/100\n",
      "11/11 [==============================] - 0s 10ms/step - loss: 36.2875 - mae: 4.5342 - val_loss: 31.9536 - val_mae: 3.8752\n",
      "Epoch 16/100\n",
      "11/11 [==============================] - 0s 10ms/step - loss: 34.2121 - mae: 4.3660 - val_loss: 30.2672 - val_mae: 3.7678\n",
      "Epoch 17/100\n",
      "11/11 [==============================] - 0s 11ms/step - loss: 32.1953 - mae: 4.2238 - val_loss: 28.6934 - val_mae: 3.6476\n",
      "Epoch 18/100\n",
      "11/11 [==============================] - 0s 7ms/step - loss: 30.3875 - mae: 4.1004 - val_loss: 27.7340 - val_mae: 3.5586\n",
      "Epoch 19/100\n",
      "11/11 [==============================] - 0s 7ms/step - loss: 29.1291 - mae: 4.0076 - val_loss: 27.0039 - val_mae: 3.4795\n",
      "Epoch 20/100\n",
      "11/11 [==============================] - 0s 7ms/step - loss: 28.2432 - mae: 3.9661 - val_loss: 26.4772 - val_mae: 3.4500\n",
      "Epoch 21/100\n",
      "11/11 [==============================] - 0s 7ms/step - loss: 27.5178 - mae: 3.9213 - val_loss: 26.0008 - val_mae: 3.4217\n",
      "Epoch 22/100\n",
      "11/11 [==============================] - 0s 7ms/step - loss: 26.9495 - mae: 3.8932 - val_loss: 25.5437 - val_mae: 3.3947\n",
      "Epoch 23/100\n",
      "11/11 [==============================] - 0s 11ms/step - loss: 26.7522 - mae: 3.8955 - val_loss: 25.1377 - val_mae: 3.3253\n",
      "Epoch 24/100\n",
      "11/11 [==============================] - 0s 12ms/step - loss: 26.1119 - mae: 3.8461 - val_loss: 25.0089 - val_mae: 3.3403\n",
      "Epoch 25/100\n",
      "11/11 [==============================] - 0s 10ms/step - loss: 25.7467 - mae: 3.8258 - val_loss: 24.9445 - val_mae: 3.3480\n",
      "Epoch 26/100\n",
      "11/11 [==============================] - 0s 15ms/step - loss: 25.5008 - mae: 3.8068 - val_loss: 24.6180 - val_mae: 3.3401\n",
      "Epoch 27/100\n",
      "11/11 [==============================] - 0s 10ms/step - loss: 25.1178 - mae: 3.7731 - val_loss: 24.5234 - val_mae: 3.3221\n",
      "Epoch 28/100\n",
      "11/11 [==============================] - 0s 8ms/step - loss: 24.8338 - mae: 3.7415 - val_loss: 24.3959 - val_mae: 3.3082\n",
      "Epoch 29/100\n",
      "11/11 [==============================] - 0s 9ms/step - loss: 24.5954 - mae: 3.7200 - val_loss: 24.1868 - val_mae: 3.2683\n",
      "Epoch 30/100\n",
      "11/11 [==============================] - 0s 9ms/step - loss: 24.3283 - mae: 3.7031 - val_loss: 24.2540 - val_mae: 3.2900\n",
      "Epoch 31/100\n",
      "11/11 [==============================] - 0s 9ms/step - loss: 24.0564 - mae: 3.6886 - val_loss: 24.1074 - val_mae: 3.2891\n",
      "Epoch 32/100\n",
      "11/11 [==============================] - 0s 9ms/step - loss: 23.8741 - mae: 3.6805 - val_loss: 24.0791 - val_mae: 3.2998\n",
      "Epoch 33/100\n",
      "11/11 [==============================] - 0s 8ms/step - loss: 23.5760 - mae: 3.6502 - val_loss: 24.0136 - val_mae: 3.2804\n",
      "Epoch 34/100\n",
      "11/11 [==============================] - 0s 8ms/step - loss: 23.3878 - mae: 3.6204 - val_loss: 23.7689 - val_mae: 3.2506\n",
      "Epoch 35/100\n",
      "11/11 [==============================] - 0s 7ms/step - loss: 23.1403 - mae: 3.5879 - val_loss: 23.7113 - val_mae: 3.2370\n",
      "Epoch 36/100\n",
      "11/11 [==============================] - 0s 9ms/step - loss: 22.9324 - mae: 3.5733 - val_loss: 23.6065 - val_mae: 3.2300\n",
      "Epoch 37/100\n",
      "11/11 [==============================] - 0s 10ms/step - loss: 22.6759 - mae: 3.5589 - val_loss: 23.4063 - val_mae: 3.1994\n",
      "Epoch 38/100\n",
      "11/11 [==============================] - 0s 9ms/step - loss: 22.4521 - mae: 3.5516 - val_loss: 23.0865 - val_mae: 3.1672\n",
      "Epoch 39/100\n",
      "11/11 [==============================] - 0s 9ms/step - loss: 22.2410 - mae: 3.5164 - val_loss: 23.3347 - val_mae: 3.1836\n",
      "Epoch 40/100\n",
      "11/11 [==============================] - 0s 7ms/step - loss: 22.1114 - mae: 3.4976 - val_loss: 23.5539 - val_mae: 3.2096\n",
      "Epoch 41/100\n",
      "11/11 [==============================] - 0s 6ms/step - loss: 22.0916 - mae: 3.5196 - val_loss: 23.8205 - val_mae: 3.2767\n",
      "Epoch 42/100\n",
      "11/11 [==============================] - 0s 7ms/step - loss: 21.9278 - mae: 3.5089 - val_loss: 23.5452 - val_mae: 3.2322\n",
      "Epoch 43/100\n",
      "11/11 [==============================] - 0s 6ms/step - loss: 21.6047 - mae: 3.4628 - val_loss: 23.0192 - val_mae: 3.1405\n",
      "Epoch 44/100\n",
      "11/11 [==============================] - 0s 6ms/step - loss: 21.4945 - mae: 3.4365 - val_loss: 22.9006 - val_mae: 3.1244\n",
      "Epoch 45/100\n",
      "11/11 [==============================] - 0s 7ms/step - loss: 21.2445 - mae: 3.4277 - val_loss: 22.6226 - val_mae: 3.0975\n",
      "Epoch 46/100\n",
      "11/11 [==============================] - 0s 9ms/step - loss: 21.1409 - mae: 3.4469 - val_loss: 22.5529 - val_mae: 3.0984\n",
      "Epoch 47/100\n",
      "11/11 [==============================] - 0s 8ms/step - loss: 20.9807 - mae: 3.4407 - val_loss: 22.3790 - val_mae: 3.0781\n",
      "Epoch 48/100\n",
      "11/11 [==============================] - 0s 7ms/step - loss: 20.8439 - mae: 3.4300 - val_loss: 22.5247 - val_mae: 3.0900\n",
      "Epoch 49/100\n",
      "11/11 [==============================] - 0s 6ms/step - loss: 20.7770 - mae: 3.4076 - val_loss: 22.4555 - val_mae: 3.0665\n",
      "Epoch 50/100\n",
      "11/11 [==============================] - 0s 7ms/step - loss: 20.5257 - mae: 3.3947 - val_loss: 22.5255 - val_mae: 3.0849\n",
      "Epoch 51/100\n",
      "11/11 [==============================] - 0s 9ms/step - loss: 20.5093 - mae: 3.4122 - val_loss: 22.5903 - val_mae: 3.1022\n",
      "Epoch 52/100\n",
      "11/11 [==============================] - 0s 7ms/step - loss: 20.3349 - mae: 3.3933 - val_loss: 22.5376 - val_mae: 3.0905\n",
      "Epoch 53/100\n",
      "11/11 [==============================] - 0s 10ms/step - loss: 20.2376 - mae: 3.3732 - val_loss: 22.4902 - val_mae: 3.0721\n",
      "Epoch 54/100\n",
      "11/11 [==============================] - 0s 6ms/step - loss: 20.0940 - mae: 3.3627 - val_loss: 22.1254 - val_mae: 3.0354\n",
      "Epoch 55/100\n",
      "11/11 [==============================] - 0s 6ms/step - loss: 20.0625 - mae: 3.3676 - val_loss: 21.9996 - val_mae: 3.0233\n",
      "Epoch 56/100\n",
      "11/11 [==============================] - 0s 6ms/step - loss: 20.0216 - mae: 3.3326 - val_loss: 21.9254 - val_mae: 2.9826\n",
      "Epoch 57/100\n",
      "11/11 [==============================] - 0s 7ms/step - loss: 20.1854 - mae: 3.3057 - val_loss: 22.0593 - val_mae: 2.9718\n",
      "Epoch 58/100\n",
      "11/11 [==============================] - 0s 6ms/step - loss: 19.7482 - mae: 3.2859 - val_loss: 22.3944 - val_mae: 3.0449\n",
      "Epoch 59/100\n",
      "11/11 [==============================] - 0s 6ms/step - loss: 19.7502 - mae: 3.3043 - val_loss: 21.9230 - val_mae: 2.9753\n",
      "Epoch 60/100\n",
      "11/11 [==============================] - 0s 6ms/step - loss: 19.7724 - mae: 3.2759 - val_loss: 22.4595 - val_mae: 3.0118\n",
      "Epoch 61/100\n",
      "11/11 [==============================] - 0s 8ms/step - loss: 19.6776 - mae: 3.2602 - val_loss: 21.7544 - val_mae: 2.9113\n"
     ]
    },
    {
     "name": "stdout",
     "output_type": "stream",
     "text": [
      "Epoch 62/100\n",
      "11/11 [==============================] - 0s 8ms/step - loss: 19.4293 - mae: 3.2369 - val_loss: 21.7862 - val_mae: 2.9476\n",
      "Epoch 63/100\n",
      "11/11 [==============================] - 0s 7ms/step - loss: 19.2408 - mae: 3.2507 - val_loss: 21.9033 - val_mae: 2.9703\n",
      "Epoch 64/100\n",
      "11/11 [==============================] - 0s 7ms/step - loss: 19.1410 - mae: 3.2416 - val_loss: 21.6406 - val_mae: 2.9223\n",
      "Epoch 65/100\n",
      "11/11 [==============================] - 0s 7ms/step - loss: 19.1652 - mae: 3.2246 - val_loss: 21.8787 - val_mae: 2.9410\n",
      "Epoch 66/100\n",
      "11/11 [==============================] - 0s 6ms/step - loss: 19.0800 - mae: 3.2365 - val_loss: 22.0301 - val_mae: 2.9995\n",
      "Epoch 67/100\n",
      "11/11 [==============================] - 0s 6ms/step - loss: 18.9786 - mae: 3.2441 - val_loss: 21.5750 - val_mae: 2.9380\n",
      "Epoch 68/100\n",
      "11/11 [==============================] - 0s 6ms/step - loss: 18.7910 - mae: 3.2247 - val_loss: 21.4408 - val_mae: 2.9095\n",
      "Epoch 69/100\n",
      "11/11 [==============================] - 0s 7ms/step - loss: 18.7832 - mae: 3.2182 - val_loss: 21.5681 - val_mae: 2.9364\n",
      "Epoch 70/100\n",
      "11/11 [==============================] - 0s 7ms/step - loss: 18.7286 - mae: 3.2001 - val_loss: 21.5058 - val_mae: 2.8984\n",
      "Epoch 71/100\n",
      "11/11 [==============================] - 0s 7ms/step - loss: 18.8610 - mae: 3.1944 - val_loss: 20.5126 - val_mae: 2.8173\n",
      "Epoch 72/100\n",
      "11/11 [==============================] - 0s 6ms/step - loss: 18.8733 - mae: 3.2482 - val_loss: 20.7374 - val_mae: 2.8900\n",
      "Epoch 73/100\n",
      "11/11 [==============================] - 0s 6ms/step - loss: 18.7395 - mae: 3.2486 - val_loss: 20.7654 - val_mae: 2.8649\n",
      "Epoch 74/100\n",
      "11/11 [==============================] - 0s 8ms/step - loss: 18.4124 - mae: 3.1912 - val_loss: 20.6987 - val_mae: 2.8218\n",
      "Epoch 75/100\n",
      "11/11 [==============================] - 0s 8ms/step - loss: 18.3657 - mae: 3.1853 - val_loss: 20.9689 - val_mae: 2.8570\n",
      "Epoch 76/100\n",
      "11/11 [==============================] - 0s 7ms/step - loss: 18.3606 - mae: 3.2079 - val_loss: 20.8688 - val_mae: 2.8613\n",
      "Epoch 77/100\n",
      "11/11 [==============================] - 0s 7ms/step - loss: 18.1548 - mae: 3.1799 - val_loss: 20.7272 - val_mae: 2.8334\n",
      "Epoch 78/100\n",
      "11/11 [==============================] - 0s 6ms/step - loss: 18.0828 - mae: 3.1592 - val_loss: 20.6666 - val_mae: 2.8137\n",
      "Epoch 79/100\n",
      "11/11 [==============================] - 0s 7ms/step - loss: 18.0447 - mae: 3.1435 - val_loss: 20.8540 - val_mae: 2.8164\n",
      "Epoch 80/100\n",
      "11/11 [==============================] - 0s 7ms/step - loss: 18.0109 - mae: 3.1362 - val_loss: 21.1265 - val_mae: 2.8556\n",
      "Epoch 81/100\n",
      "11/11 [==============================] - 0s 8ms/step - loss: 17.9531 - mae: 3.1451 - val_loss: 20.7826 - val_mae: 2.8198\n",
      "Epoch 82/100\n",
      "11/11 [==============================] - 0s 6ms/step - loss: 17.8410 - mae: 3.1324 - val_loss: 20.9994 - val_mae: 2.8367\n",
      "Epoch 83/100\n",
      "11/11 [==============================] - 0s 7ms/step - loss: 17.7661 - mae: 3.1198 - val_loss: 20.8731 - val_mae: 2.8294\n",
      "Epoch 84/100\n",
      "11/11 [==============================] - 0s 7ms/step - loss: 17.7662 - mae: 3.1375 - val_loss: 20.9515 - val_mae: 2.8529\n",
      "Epoch 85/100\n",
      "11/11 [==============================] - 0s 7ms/step - loss: 17.7042 - mae: 3.1272 - val_loss: 20.5577 - val_mae: 2.7923\n",
      "Epoch 86/100\n",
      "11/11 [==============================] - 0s 6ms/step - loss: 17.6395 - mae: 3.1104 - val_loss: 20.6462 - val_mae: 2.8018\n",
      "Epoch 87/100\n",
      "11/11 [==============================] - 0s 7ms/step - loss: 17.6658 - mae: 3.0836 - val_loss: 20.4354 - val_mae: 2.7575\n",
      "Epoch 88/100\n",
      "11/11 [==============================] - 0s 7ms/step - loss: 17.5747 - mae: 3.0964 - val_loss: 20.4857 - val_mae: 2.7817\n",
      "Epoch 89/100\n",
      "11/11 [==============================] - 0s 7ms/step - loss: 17.5116 - mae: 3.0759 - val_loss: 20.2778 - val_mae: 2.7381\n",
      "Epoch 90/100\n",
      "11/11 [==============================] - 0s 9ms/step - loss: 17.3104 - mae: 3.0568 - val_loss: 20.8090 - val_mae: 2.8073\n",
      "Epoch 91/100\n",
      "11/11 [==============================] - 0s 11ms/step - loss: 17.4683 - mae: 3.0739 - val_loss: 20.7003 - val_mae: 2.7784\n",
      "Epoch 92/100\n",
      "11/11 [==============================] - 0s 9ms/step - loss: 17.3253 - mae: 3.0757 - val_loss: 20.7284 - val_mae: 2.7979\n",
      "Epoch 93/100\n",
      "11/11 [==============================] - 0s 10ms/step - loss: 17.1622 - mae: 3.0675 - val_loss: 20.4416 - val_mae: 2.7550\n",
      "Epoch 94/100\n",
      "11/11 [==============================] - 0s 12ms/step - loss: 17.2743 - mae: 3.0486 - val_loss: 20.2584 - val_mae: 2.7120\n",
      "Epoch 95/100\n",
      "11/11 [==============================] - 0s 8ms/step - loss: 17.0426 - mae: 3.0415 - val_loss: 20.1465 - val_mae: 2.7139\n",
      "Epoch 96/100\n",
      "11/11 [==============================] - 0s 8ms/step - loss: 16.9334 - mae: 3.0340 - val_loss: 19.9024 - val_mae: 2.6756\n",
      "Epoch 97/100\n",
      "11/11 [==============================] - 0s 8ms/step - loss: 16.8939 - mae: 3.0153 - val_loss: 19.9611 - val_mae: 2.6746\n",
      "Epoch 98/100\n",
      "11/11 [==============================] - 0s 9ms/step - loss: 16.9299 - mae: 3.0119 - val_loss: 19.9322 - val_mae: 2.6715\n",
      "Epoch 99/100\n",
      "11/11 [==============================] - 0s 9ms/step - loss: 16.9439 - mae: 3.0357 - val_loss: 20.6947 - val_mae: 2.7821\n",
      "Epoch 100/100\n",
      "11/11 [==============================] - 0s 8ms/step - loss: 17.2573 - mae: 3.1116 - val_loss: 20.0108 - val_mae: 2.7399\n"
     ]
    }
   ],
   "source": [
    "history = model.fit(\n",
    "    x_train, y_train,\n",
    "    epochs=100,  # You can increase or decrease the number of epochs\n",
    "    batch_size=32,\n",
    "    validation_split=0.2,  # 20% of training data will be used for validation\n",
    "    verbose=1  # Set to 1 to see the progress\n",
    ")"
   ]
  },
  {
   "cell_type": "code",
   "execution_count": 25,
   "id": "cd7bd03b",
   "metadata": {},
   "outputs": [
    {
     "name": "stdout",
     "output_type": "stream",
     "text": [
      "4/4 [==============================] - 0s 2ms/step - loss: 17.3764 - mae: 2.7400\n",
      "Test Mean Absolute Error: $2740.03\n"
     ]
    }
   ],
   "source": [
    "test_loss, test_mae = model.evaluate(x_test, y_test)\n",
    "print(f\"Test Mean Absolute Error: ${test_mae * 1000:.2f}\")"
   ]
  },
  {
   "cell_type": "code",
   "execution_count": 26,
   "id": "f802370b",
   "metadata": {},
   "outputs": [],
   "source": [
    "import matplotlib.pyplot as plt\n"
   ]
  },
  {
   "cell_type": "code",
   "execution_count": 27,
   "id": "425de33a",
   "metadata": {},
   "outputs": [
    {
     "data": {
      "text/plain": [
       "<Figure size 864x360 with 0 Axes>"
      ]
     },
     "execution_count": 27,
     "metadata": {},
     "output_type": "execute_result"
    },
    {
     "data": {
      "text/plain": [
       "<Figure size 864x360 with 0 Axes>"
      ]
     },
     "metadata": {},
     "output_type": "display_data"
    }
   ],
   "source": [
    "plt.figure(figsize=(12, 5))"
   ]
  },
  {
   "cell_type": "code",
   "execution_count": 28,
   "id": "1f2524b1",
   "metadata": {},
   "outputs": [
    {
     "data": {
      "text/plain": [
       "<matplotlib.legend.Legend at 0x1cf04d482b0>"
      ]
     },
     "execution_count": 28,
     "metadata": {},
     "output_type": "execute_result"
    },
    {
     "data": {
      "image/png": "[encoded data removed]",
      "text/plain": [
       "<Figure size 432x288 with 1 Axes>"
      ]
     },
     "metadata": {
      "needs_background": "light"
     },
     "output_type": "display_data"
    }
   ],
   "source": [
    "plt.subplot(1, 2, 1)\n",
    "plt.plot(history.history['loss'], label='Train Loss')\n",
    "plt.plot(history.history['val_loss'], label='Validation Loss')\n",
    "plt.title('Loss over Epochs')\n",
    "plt.xlabel('Epochs')\n",
    "plt.ylabel('Mean Squared Error (MSE)')\n",
    "plt.legend()\n"
   ]
  },
  {
   "cell_type": "code",
   "execution_count": 29,
   "id": "24a335b2",
   "metadata": {},
   "outputs": [
    {
     "data": {
      "text/plain": [
       "<matplotlib.legend.Legend at 0x1cf04e4f9d0>"
      ]
     },
     "execution_count": 29,
     "metadata": {},
     "output_type": "execute_result"
    },
    {
     "data": {
      "image/png": "[encoded data removed]",
      "text/plain": [
       "<Figure size 432x288 with 1 Axes>"
      ]
     },
     "metadata": {
      "needs_background": "light"
     },
     "output_type": "display_data"
    }
   ],
   "source": [
    "plt.subplot(1, 2, 2)\n",
    "plt.plot(history.history['mae'], label='Train MAE')\n",
    "plt.plot(history.history['val_mae'], label='Validation MAE')\n",
    "plt.title('Mean Absolute Error over Epochs')\n",
    "plt.xlabel('Epochs')\n",
    "plt.ylabel('Mean Absolute Error')\n",
    "plt.legend()"
   ]
  },
  {
   "cell_type": "code",
   "execution_count": 30,
   "id": "dc2789e7",
   "metadata": {},
   "outputs": [
    {
     "data": {
      "text/plain": [
       "<Figure size 432x288 with 0 Axes>"
      ]
     },
     "metadata": {},
     "output_type": "display_data"
    }
   ],
   "source": [
    "plt.tight_layout()\n",
    "plt.show()"
   ]
  },
  {
   "cell_type": "code",
   "execution_count": 33,
   "id": "def9a447",
   "metadata": {},
   "outputs": [
    {
     "name": "stdout",
     "output_type": "stream",
     "text": [
      "4/4 [==============================] - 0s 3ms/step - loss: 17.3764 - mae: 2.7400\n"
     ]
    }
   ],
   "source": [
    "output = model.evaluate(x_test, y_test)"
   ]
  },
  {
   "cell_type": "code",
   "execution_count": 34,
   "id": "8b685ac9",
   "metadata": {},
   "outputs": [
    {
     "name": "stdout",
     "output_type": "stream",
     "text": [
      "Mean Squared Error: 17.376354217529297\n",
      "Mean Absolute Error: 2.740030288696289\n"
     ]
    }
   ],
   "source": [
    "print(f\"Mean Squared Error: {output[0]}\", f\"Mean Absolute Error: {output[1]}\", sep=\"\\n\")"
   ]
  },
  {
   "cell_type": "code",
   "execution_count": null,
   "id": "74365339",
   "metadata": {},
   "outputs": [],
   "source": []
  }
 ],
 "metadata": {
  "kernelspec": {
   "display_name": "Python 3",
   "language": "python",
   "name": "python3"
  },
  "language_info": {
   "codemirror_mode": {
    "name": "ipython",
    "version": 3
   },
   "file_extension": ".py",
   "mimetype": "text/x-python",
   "name": "python",
   "nbconvert_exporter": "python",
   "pygments_lexer": "ipython3",
   "version": "3.8.8"
  }
 },
 "nbformat": 4,
 "nbformat_minor": 5
}
